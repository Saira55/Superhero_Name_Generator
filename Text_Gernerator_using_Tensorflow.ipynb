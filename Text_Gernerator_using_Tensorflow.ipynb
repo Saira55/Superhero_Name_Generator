{
  "nbformat": 4,
  "nbformat_minor": 0,
  "metadata": {
    "colab": {
      "provenance": [],
      "gpuType": "T4"
    },
    "kernelspec": {
      "name": "python3",
      "display_name": "Python 3"
    },
    "language_info": {
      "name": "python"
    },
    "accelerator": "GPU"
  },
  "cells": [
    {
      "cell_type": "code",
      "execution_count": 1,
      "metadata": {
        "colab": {
          "base_uri": "https://localhost:8080/"
        },
        "id": "2IP1sx6rJHiN",
        "outputId": "cbadb9fd-5cb1-4423-d4ef-6bb8b1e903ec"
      },
      "outputs": [
        {
          "output_type": "stream",
          "name": "stdout",
          "text": [
            "Cloning into 'superhero'...\n",
            "warning: redirecting to https://github.com/am1tyadav/superhero/\n",
            "remote: Enumerating objects: 8, done.\u001b[K\n",
            "remote: Counting objects: 100% (8/8), done.\u001b[K\n",
            "remote: Compressing objects: 100% (7/7), done.\u001b[K\n",
            "remote: Total 8 (delta 0), reused 4 (delta 0), pack-reused 0\u001b[K\n",
            "Receiving objects: 100% (8/8), 47.08 KiB | 679.00 KiB/s, done.\n"
          ]
        }
      ],
      "source": [
        "!git clone http://github.com/am1tyadav/superhero"
      ]
    },
    {
      "cell_type": "code",
      "source": [
        "with open('superhero/superheroes.txt', 'r') as f:\n",
        "  data=f.read()\n",
        "\n",
        "data[:100]"
      ],
      "metadata": {
        "colab": {
          "base_uri": "https://localhost:8080/",
          "height": 36
        },
        "id": "LZUkQWyYKhzE",
        "outputId": "35fbb4a2-a756-4b40-c4cd-1364a3141df8"
      },
      "execution_count": 2,
      "outputs": [
        {
          "output_type": "execute_result",
          "data": {
            "text/plain": [
              "'jumpa\\t\\ndoctor fate\\t\\nstarlight\\t\\nisildur\\t\\nlasher\\t\\nvarvara\\t\\nthe target\\t\\naxel\\t\\nbattra\\t\\nchangeling\\t\\npyrrh'"
            ],
            "application/vnd.google.colaboratory.intrinsic+json": {
              "type": "string"
            }
          },
          "metadata": {},
          "execution_count": 2
        }
      ]
    },
    {
      "cell_type": "code",
      "source": [
        "import tensorflow as tf\n",
        "print(tf.__version__)"
      ],
      "metadata": {
        "colab": {
          "base_uri": "https://localhost:8080/"
        },
        "id": "m5OaUpJYQYHQ",
        "outputId": "0cb4000b-fd94-4f55-d1d6-5108bfa94b39"
      },
      "execution_count": 3,
      "outputs": [
        {
          "output_type": "stream",
          "name": "stdout",
          "text": [
            "2.13.0\n"
          ]
        }
      ]
    },
    {
      "cell_type": "code",
      "source": [
        "tokenizer = tf.keras.preprocessing.text.Tokenizer(\n",
        "    filters='!\"#$%&()*+,-./:;<=>?@[\\\\]^_`{|}~',\n",
        "    split='\\n'\n",
        ")"
      ],
      "metadata": {
        "id": "Hg8CrcLrQYLC"
      },
      "execution_count": 4,
      "outputs": []
    },
    {
      "cell_type": "code",
      "source": [
        "tokenizer.fit_on_texts(data)"
      ],
      "metadata": {
        "id": "87BDfqEGQYPA"
      },
      "execution_count": 5,
      "outputs": []
    },
    {
      "cell_type": "code",
      "source": [
        "char_to_index=tokenizer.word_index\n",
        "index_to_char=dict((v,k) for k, v in char_to_index.items())\n",
        "\n",
        "print(index_to_char)"
      ],
      "metadata": {
        "colab": {
          "base_uri": "https://localhost:8080/"
        },
        "id": "xbXPQXOZQYSS",
        "outputId": "84311823-4adf-4552-e277-c17e68f22ce7"
      },
      "execution_count": 6,
      "outputs": [
        {
          "output_type": "stream",
          "name": "stdout",
          "text": [
            "{1: '\\t', 2: 'a', 3: 'e', 4: 'r', 5: 'o', 6: 'n', 7: 'i', 8: ' ', 9: 't', 10: 's', 11: 'l', 12: 'm', 13: 'h', 14: 'd', 15: 'c', 16: 'u', 17: 'g', 18: 'k', 19: 'b', 20: 'p', 21: 'y', 22: 'w', 23: 'f', 24: 'v', 25: 'j', 26: 'z', 27: 'x', 28: 'q'}\n"
          ]
        }
      ]
    },
    {
      "cell_type": "markdown",
      "source": [
        "#Task 3"
      ],
      "metadata": {
        "id": "a15rmwlNTygb"
      }
    },
    {
      "cell_type": "code",
      "source": [
        "names=data.splitlines()\n",
        "names[:10]"
      ],
      "metadata": {
        "colab": {
          "base_uri": "https://localhost:8080/"
        },
        "id": "SLPThPQhQYY1",
        "outputId": "eb01270a-3aee-458a-bcae-8475d29fedcc"
      },
      "execution_count": 7,
      "outputs": [
        {
          "output_type": "execute_result",
          "data": {
            "text/plain": [
              "['jumpa\\t',\n",
              " 'doctor fate\\t',\n",
              " 'starlight\\t',\n",
              " 'isildur\\t',\n",
              " 'lasher\\t',\n",
              " 'varvara\\t',\n",
              " 'the target\\t',\n",
              " 'axel\\t',\n",
              " 'battra\\t',\n",
              " 'changeling\\t']"
            ]
          },
          "metadata": {},
          "execution_count": 7
        }
      ]
    },
    {
      "cell_type": "code",
      "source": [
        "tokenizer.texts_to_sequences(names[0])"
      ],
      "metadata": {
        "colab": {
          "base_uri": "https://localhost:8080/"
        },
        "id": "QJHdn5a3QYbr",
        "outputId": "94a36dfb-6f1a-405c-f078-84d3e23f0c8a"
      },
      "execution_count": 8,
      "outputs": [
        {
          "output_type": "execute_result",
          "data": {
            "text/plain": [
              "[[25], [16], [12], [20], [2], [1]]"
            ]
          },
          "metadata": {},
          "execution_count": 8
        }
      ]
    },
    {
      "cell_type": "code",
      "source": [
        "def name_to_seq(name):\n",
        "  return[tokenizer.texts_to_sequences(c)[0][0] for c in name]"
      ],
      "metadata": {
        "id": "v2BE6hFpQYfD"
      },
      "execution_count": 9,
      "outputs": []
    },
    {
      "cell_type": "code",
      "source": [
        "name_to_seq(names[0])"
      ],
      "metadata": {
        "colab": {
          "base_uri": "https://localhost:8080/"
        },
        "id": "irTanMx_QYii",
        "outputId": "d8b8980f-a29e-485f-c178-822194198eb5"
      },
      "execution_count": 10,
      "outputs": [
        {
          "output_type": "execute_result",
          "data": {
            "text/plain": [
              "[25, 16, 12, 20, 2, 1]"
            ]
          },
          "metadata": {},
          "execution_count": 10
        }
      ]
    },
    {
      "cell_type": "code",
      "source": [
        "def seq_to_name(seq):\n",
        "  return ''.join([index_to_char[i] for i in seq if i !=0])"
      ],
      "metadata": {
        "id": "HH7t-GZLQYmP"
      },
      "execution_count": 11,
      "outputs": []
    },
    {
      "cell_type": "code",
      "source": [
        "seq_to_name(name_to_seq(names[0]))"
      ],
      "metadata": {
        "colab": {
          "base_uri": "https://localhost:8080/",
          "height": 36
        },
        "id": "PhD9SGMqQYpg",
        "outputId": "37681713-a136-4750-9465-5afb6c5a9b29"
      },
      "execution_count": 12,
      "outputs": [
        {
          "output_type": "execute_result",
          "data": {
            "text/plain": [
              "'jumpa\\t'"
            ],
            "application/vnd.google.colaboratory.intrinsic+json": {
              "type": "string"
            }
          },
          "metadata": {},
          "execution_count": 12
        }
      ]
    },
    {
      "cell_type": "markdown",
      "source": [
        "#TASK 4"
      ],
      "metadata": {
        "id": "eNHd2bqSo7Wt"
      }
    },
    {
      "cell_type": "code",
      "source": [
        "sequences= []\n",
        "\n",
        "for name in names:\n",
        "  seq=name_to_seq(name)\n",
        "  if len(seq) >=2:\n",
        "    sequences += [seq[:i] for i in range(2, len(seq)+1)]"
      ],
      "metadata": {
        "id": "8jOipZWtQYs9"
      },
      "execution_count": 13,
      "outputs": []
    },
    {
      "cell_type": "code",
      "source": [
        "sequences[:10]"
      ],
      "metadata": {
        "colab": {
          "base_uri": "https://localhost:8080/"
        },
        "id": "AkQB7zOcQYwe",
        "outputId": "4f116ae7-95e8-4c5b-bfc8-b197488e7d76"
      },
      "execution_count": 14,
      "outputs": [
        {
          "output_type": "execute_result",
          "data": {
            "text/plain": [
              "[[25, 16],\n",
              " [25, 16, 12],\n",
              " [25, 16, 12, 20],\n",
              " [25, 16, 12, 20, 2],\n",
              " [25, 16, 12, 20, 2, 1],\n",
              " [14, 5],\n",
              " [14, 5, 15],\n",
              " [14, 5, 15, 9],\n",
              " [14, 5, 15, 9, 5],\n",
              " [14, 5, 15, 9, 5, 4]]"
            ]
          },
          "metadata": {},
          "execution_count": 14
        }
      ]
    },
    {
      "cell_type": "code",
      "source": [
        "max_len=max([len(x) for x in sequences])\n",
        "print(max_len)"
      ],
      "metadata": {
        "colab": {
          "base_uri": "https://localhost:8080/"
        },
        "id": "oIJ_2ZhPQY0T",
        "outputId": "28852376-58ea-4b17-ecbd-a10be40ce360"
      },
      "execution_count": 15,
      "outputs": [
        {
          "output_type": "stream",
          "name": "stdout",
          "text": [
            "33\n"
          ]
        }
      ]
    },
    {
      "cell_type": "code",
      "source": [
        "padded_sequences=tf.keras.preprocessing.sequence.pad_sequences(\n",
        "    sequences, padding='pre',\n",
        "    maxlen=max_len\n",
        ")\n",
        "\n",
        "print(padded_sequences[0])"
      ],
      "metadata": {
        "colab": {
          "base_uri": "https://localhost:8080/"
        },
        "id": "OeSeBgn0q3sT",
        "outputId": "211addf1-5ce0-44bd-f8c7-6919ecf77346"
      },
      "execution_count": 16,
      "outputs": [
        {
          "output_type": "stream",
          "name": "stdout",
          "text": [
            "[ 0  0  0  0  0  0  0  0  0  0  0  0  0  0  0  0  0  0  0  0  0  0  0  0\n",
            "  0  0  0  0  0  0  0 25 16]\n"
          ]
        }
      ]
    },
    {
      "cell_type": "code",
      "source": [
        "padded_sequences.shape"
      ],
      "metadata": {
        "colab": {
          "base_uri": "https://localhost:8080/"
        },
        "id": "yJWmIKASq3vR",
        "outputId": "f9ca62b4-fd33-4e6f-ae89-1ddc80ff6729"
      },
      "execution_count": 17,
      "outputs": [
        {
          "output_type": "execute_result",
          "data": {
            "text/plain": [
              "(88279, 33)"
            ]
          },
          "metadata": {},
          "execution_count": 17
        }
      ]
    },
    {
      "cell_type": "code",
      "source": [],
      "metadata": {
        "id": "nQtCxlc5Bh1e"
      },
      "execution_count": 17,
      "outputs": []
    },
    {
      "cell_type": "markdown",
      "source": [
        "#TASK 5"
      ],
      "metadata": {
        "id": "wyvyFeCvBiGU"
      }
    },
    {
      "cell_type": "code",
      "source": [
        "x, y=padded_sequences[:, :-1], padded_sequences[:, -1]\n",
        "print(x.shape, y.shape)"
      ],
      "metadata": {
        "colab": {
          "base_uri": "https://localhost:8080/"
        },
        "id": "ZgYo0zQpq3yJ",
        "outputId": "fa756aa8-dc59-44dc-cd63-70336be5b9e4"
      },
      "execution_count": 18,
      "outputs": [
        {
          "output_type": "stream",
          "name": "stdout",
          "text": [
            "(88279, 32) (88279,)\n"
          ]
        }
      ]
    },
    {
      "cell_type": "code",
      "source": [
        "from sklearn.model_selection import train_test_split\n",
        "\n",
        "x_train, x_test, y_train, y_test = train_test_split(x, y)  # default split is 30%\n",
        "\n",
        "print(x_train.shape, y_train.shape)\n",
        "print(x_test.shape, y_test.shape)\n",
        "\n"
      ],
      "metadata": {
        "colab": {
          "base_uri": "https://localhost:8080/"
        },
        "id": "k8X1y6FTq31C",
        "outputId": "535d4331-0440-47e9-9ae0-30cb3d8ad6f2"
      },
      "execution_count": 19,
      "outputs": [
        {
          "output_type": "stream",
          "name": "stdout",
          "text": [
            "(66209, 32) (66209,)\n",
            "(22070, 32) (22070,)\n"
          ]
        }
      ]
    },
    {
      "cell_type": "code",
      "source": [
        "num_chars=len(char_to_index.keys()) +1   #1 is bcz we added 0 to our vocabulary\n",
        "print(num_chars)"
      ],
      "metadata": {
        "colab": {
          "base_uri": "https://localhost:8080/"
        },
        "id": "wUkYMYliq34P",
        "outputId": "ad102819-bbb5-4506-9441-4d077170a47f"
      },
      "execution_count": 20,
      "outputs": [
        {
          "output_type": "stream",
          "name": "stdout",
          "text": [
            "29\n"
          ]
        }
      ]
    },
    {
      "cell_type": "markdown",
      "source": [
        "#TASK 6"
      ],
      "metadata": {
        "id": "FpSPUlZeHbNu"
      }
    },
    {
      "cell_type": "code",
      "source": [
        "from tensorflow.keras.models import Sequential\n",
        "from tensorflow.keras.layers import Embedding, Conv1D, MaxPool1D, LSTM\n",
        "from tensorflow.keras.layers import Bidirectional, Dense\n",
        "\n",
        "\n",
        "model= Sequential([\n",
        "                  Embedding(num_chars, 8, input_length=max_len-1),\n",
        "                  Conv1D(64, 5, strides=1, activation='tanh', padding='causal'),\n",
        "                  MaxPool1D(2),\n",
        "                  LSTM(32),\n",
        "                  Dense(num_chars, activation='softmax')\n",
        "\n",
        "])\n",
        "\n",
        "model.compile(\n",
        "    loss='sparse_categorical_crossentropy',\n",
        "    optimizer='adam',\n",
        "    metrics=['accuracy']\n",
        ")\n",
        "\n",
        "model.summary()\n",
        "\n"
      ],
      "metadata": {
        "colab": {
          "base_uri": "https://localhost:8080/"
        },
        "id": "sBRkfdr2q3-b",
        "outputId": "e9822400-c1d1-4530-fdf1-b4d6686a123f"
      },
      "execution_count": 21,
      "outputs": [
        {
          "output_type": "stream",
          "name": "stdout",
          "text": [
            "Model: \"sequential\"\n",
            "_________________________________________________________________\n",
            " Layer (type)                Output Shape              Param #   \n",
            "=================================================================\n",
            " embedding (Embedding)       (None, 32, 8)             232       \n",
            "                                                                 \n",
            " conv1d (Conv1D)             (None, 32, 64)            2624      \n",
            "                                                                 \n",
            " max_pooling1d (MaxPooling1  (None, 16, 64)            0         \n",
            " D)                                                              \n",
            "                                                                 \n",
            " lstm (LSTM)                 (None, 32)                12416     \n",
            "                                                                 \n",
            " dense (Dense)               (None, 29)                957       \n",
            "                                                                 \n",
            "=================================================================\n",
            "Total params: 16229 (63.39 KB)\n",
            "Trainable params: 16229 (63.39 KB)\n",
            "Non-trainable params: 0 (0.00 Byte)\n",
            "_________________________________________________________________\n"
          ]
        }
      ]
    },
    {
      "cell_type": "markdown",
      "source": [
        "# Task 7"
      ],
      "metadata": {
        "id": "Fkkg4eO8PCB3"
      }
    },
    {
      "cell_type": "code",
      "source": [
        "h=model.fit(\n",
        "    x_train, y_train,\n",
        "    validation_data=(x_test, y_test),\n",
        "    epochs=50, verbose=2,\n",
        "    callbacks=[\n",
        "        tf.keras.callbacks.EarlyStopping(monitor='val_accuracy', patience=3)\n",
        "    ]\n",
        ")"
      ],
      "metadata": {
        "colab": {
          "base_uri": "https://localhost:8080/"
        },
        "id": "VsOalKO6q4Bg",
        "outputId": "084fac05-b1c9-45e3-ff1a-b2c49f166fb0"
      },
      "execution_count": 22,
      "outputs": [
        {
          "output_type": "stream",
          "name": "stdout",
          "text": [
            "Epoch 1/50\n",
            "2070/2070 - 26s - loss: 2.7410 - accuracy: 0.1885 - val_loss: 2.5752 - val_accuracy: 0.2286 - 26s/epoch - 12ms/step\n",
            "Epoch 2/50\n",
            "2070/2070 - 12s - loss: 2.5419 - accuracy: 0.2400 - val_loss: 2.4972 - val_accuracy: 0.2493 - 12s/epoch - 6ms/step\n",
            "Epoch 3/50\n",
            "2070/2070 - 12s - loss: 2.4803 - accuracy: 0.2541 - val_loss: 2.4525 - val_accuracy: 0.2565 - 12s/epoch - 6ms/step\n",
            "Epoch 4/50\n",
            "2070/2070 - 13s - loss: 2.4356 - accuracy: 0.2677 - val_loss: 2.4141 - val_accuracy: 0.2686 - 13s/epoch - 6ms/step\n",
            "Epoch 5/50\n",
            "2070/2070 - 12s - loss: 2.3991 - accuracy: 0.2750 - val_loss: 2.3878 - val_accuracy: 0.2735 - 12s/epoch - 6ms/step\n",
            "Epoch 6/50\n",
            "2070/2070 - 13s - loss: 2.3686 - accuracy: 0.2828 - val_loss: 2.3678 - val_accuracy: 0.2772 - 13s/epoch - 6ms/step\n",
            "Epoch 7/50\n",
            "2070/2070 - 13s - loss: 2.3424 - accuracy: 0.2894 - val_loss: 2.3504 - val_accuracy: 0.2861 - 13s/epoch - 6ms/step\n",
            "Epoch 8/50\n",
            "2070/2070 - 12s - loss: 2.3184 - accuracy: 0.2963 - val_loss: 2.3311 - val_accuracy: 0.2917 - 12s/epoch - 6ms/step\n",
            "Epoch 9/50\n",
            "2070/2070 - 12s - loss: 2.2963 - accuracy: 0.3042 - val_loss: 2.3136 - val_accuracy: 0.3013 - 12s/epoch - 6ms/step\n",
            "Epoch 10/50\n",
            "2070/2070 - 12s - loss: 2.2754 - accuracy: 0.3114 - val_loss: 2.2994 - val_accuracy: 0.3005 - 12s/epoch - 6ms/step\n",
            "Epoch 11/50\n",
            "2070/2070 - 13s - loss: 2.2559 - accuracy: 0.3164 - val_loss: 2.2865 - val_accuracy: 0.3061 - 13s/epoch - 6ms/step\n",
            "Epoch 12/50\n",
            "2070/2070 - 12s - loss: 2.2368 - accuracy: 0.3231 - val_loss: 2.2773 - val_accuracy: 0.3112 - 12s/epoch - 6ms/step\n",
            "Epoch 13/50\n",
            "2070/2070 - 12s - loss: 2.2192 - accuracy: 0.3291 - val_loss: 2.2653 - val_accuracy: 0.3165 - 12s/epoch - 6ms/step\n",
            "Epoch 14/50\n",
            "2070/2070 - 12s - loss: 2.2017 - accuracy: 0.3351 - val_loss: 2.2549 - val_accuracy: 0.3241 - 12s/epoch - 6ms/step\n",
            "Epoch 15/50\n",
            "2070/2070 - 12s - loss: 2.1860 - accuracy: 0.3402 - val_loss: 2.2513 - val_accuracy: 0.3236 - 12s/epoch - 6ms/step\n",
            "Epoch 16/50\n",
            "2070/2070 - 12s - loss: 2.1707 - accuracy: 0.3452 - val_loss: 2.2438 - val_accuracy: 0.3280 - 12s/epoch - 6ms/step\n",
            "Epoch 17/50\n",
            "2070/2070 - 12s - loss: 2.1563 - accuracy: 0.3514 - val_loss: 2.2333 - val_accuracy: 0.3299 - 12s/epoch - 6ms/step\n",
            "Epoch 18/50\n",
            "2070/2070 - 12s - loss: 2.1435 - accuracy: 0.3547 - val_loss: 2.2295 - val_accuracy: 0.3322 - 12s/epoch - 6ms/step\n",
            "Epoch 19/50\n",
            "2070/2070 - 13s - loss: 2.1310 - accuracy: 0.3576 - val_loss: 2.2244 - val_accuracy: 0.3363 - 13s/epoch - 6ms/step\n",
            "Epoch 20/50\n",
            "2070/2070 - 12s - loss: 2.1198 - accuracy: 0.3625 - val_loss: 2.2224 - val_accuracy: 0.3353 - 12s/epoch - 6ms/step\n",
            "Epoch 21/50\n",
            "2070/2070 - 12s - loss: 2.1092 - accuracy: 0.3653 - val_loss: 2.2151 - val_accuracy: 0.3398 - 12s/epoch - 6ms/step\n",
            "Epoch 22/50\n",
            "2070/2070 - 12s - loss: 2.0985 - accuracy: 0.3700 - val_loss: 2.2113 - val_accuracy: 0.3438 - 12s/epoch - 6ms/step\n",
            "Epoch 23/50\n",
            "2070/2070 - 13s - loss: 2.0893 - accuracy: 0.3711 - val_loss: 2.2125 - val_accuracy: 0.3447 - 13s/epoch - 6ms/step\n",
            "Epoch 24/50\n",
            "2070/2070 - 13s - loss: 2.0798 - accuracy: 0.3742 - val_loss: 2.2104 - val_accuracy: 0.3467 - 13s/epoch - 6ms/step\n",
            "Epoch 25/50\n",
            "2070/2070 - 12s - loss: 2.0715 - accuracy: 0.3777 - val_loss: 2.2070 - val_accuracy: 0.3462 - 12s/epoch - 6ms/step\n",
            "Epoch 26/50\n",
            "2070/2070 - 11s - loss: 2.0629 - accuracy: 0.3798 - val_loss: 2.2110 - val_accuracy: 0.3449 - 11s/epoch - 6ms/step\n",
            "Epoch 27/50\n",
            "2070/2070 - 13s - loss: 2.0553 - accuracy: 0.3837 - val_loss: 2.2038 - val_accuracy: 0.3481 - 13s/epoch - 6ms/step\n",
            "Epoch 28/50\n",
            "2070/2070 - 11s - loss: 2.0473 - accuracy: 0.3854 - val_loss: 2.2018 - val_accuracy: 0.3520 - 11s/epoch - 6ms/step\n",
            "Epoch 29/50\n",
            "2070/2070 - 11s - loss: 2.0410 - accuracy: 0.3875 - val_loss: 2.1997 - val_accuracy: 0.3521 - 11s/epoch - 6ms/step\n",
            "Epoch 30/50\n",
            "2070/2070 - 12s - loss: 2.0347 - accuracy: 0.3899 - val_loss: 2.1984 - val_accuracy: 0.3550 - 12s/epoch - 6ms/step\n",
            "Epoch 31/50\n",
            "2070/2070 - 12s - loss: 2.0275 - accuracy: 0.3918 - val_loss: 2.1997 - val_accuracy: 0.3528 - 12s/epoch - 6ms/step\n",
            "Epoch 32/50\n",
            "2070/2070 - 12s - loss: 2.0217 - accuracy: 0.3941 - val_loss: 2.2005 - val_accuracy: 0.3544 - 12s/epoch - 6ms/step\n",
            "Epoch 33/50\n",
            "2070/2070 - 12s - loss: 2.0157 - accuracy: 0.3955 - val_loss: 2.2039 - val_accuracy: 0.3531 - 12s/epoch - 6ms/step\n"
          ]
        }
      ]
    },
    {
      "cell_type": "code",
      "source": [
        "from matplotlib import pyplot as plt"
      ],
      "metadata": {
        "id": "5C0WHPbbq4E4"
      },
      "execution_count": 23,
      "outputs": []
    },
    {
      "cell_type": "code",
      "source": [
        "epochs_ran=len(h.history['loss'])\n",
        "plt.plot(range(0, epochs_ran), h.history['val_accuracy'], label='Validation')\n",
        "plt.plot(range(0, epochs_ran), h.history['accuracy'], label='Training')\n",
        "plt.legend()\n",
        "plt.show()"
      ],
      "metadata": {
        "colab": {
          "base_uri": "https://localhost:8080/",
          "height": 430
        },
        "id": "5iX5aiTpq4IM",
        "outputId": "a57a72a0-1d00-419d-d728-75d5dc860fc6"
      },
      "execution_count": 25,
      "outputs": [
        {
          "output_type": "display_data",
          "data": {
            "text/plain": [
              "<Figure size 640x480 with 1 Axes>"
            ],
            "image/png": "[encoded data removed]"
          },
          "metadata": {}
        }
      ]
    },
    {
      "cell_type": "markdown",
      "source": [
        "# Task 8"
      ],
      "metadata": {
        "id": "pVh3ZI3LUW0Y"
      }
    },
    {
      "cell_type": "code",
      "source": [
        "def generate_names(seed):\n",
        "  for i in range(0, 40):\n",
        "    seq=name_to_seq(seed)\n",
        "    padded=tf.keras.preprocessing.sequence.pad_sequences([seq], padding='pre',\n",
        "                                                         maxlen=max_len-1,\n",
        "                                                         truncating='pre')\n",
        "\n",
        "    pred=model.predict(padded)[0]\n",
        "    pred_char= index_to_char[tf.argmax(pred).numpy()]\n",
        "    seed+=pred_char\n",
        "\n",
        "    if pred_char=='\\t':\n",
        "      break\n",
        "  print(seed)\n"
      ],
      "metadata": {
        "id": "p2Wy52hUUWDc"
      },
      "execution_count": 27,
      "outputs": []
    },
    {
      "cell_type": "code",
      "source": [
        "generate_names('a')"
      ],
      "metadata": {
        "colab": {
          "base_uri": "https://localhost:8080/"
        },
        "id": "33s6yVr-UWGs",
        "outputId": "43a4e049-e03f-424e-9f35-94a2d0325ad9"
      },
      "execution_count": 28,
      "outputs": [
        {
          "output_type": "stream",
          "name": "stdout",
          "text": [
            "1/1 [==============================] - 1s 559ms/step\n",
            "1/1 [==============================] - 0s 28ms/step\n",
            "1/1 [==============================] - 0s 30ms/step\n",
            "1/1 [==============================] - 0s 30ms/step\n",
            "1/1 [==============================] - 0s 33ms/step\n",
            "1/1 [==============================] - 0s 40ms/step\n",
            "1/1 [==============================] - 0s 26ms/step\n",
            "1/1 [==============================] - 0s 26ms/step\n",
            "1/1 [==============================] - 0s 29ms/step\n",
            "1/1 [==============================] - 0s 28ms/step\n",
            "1/1 [==============================] - 0s 27ms/step\n",
            "1/1 [==============================] - 0s 27ms/step\n",
            "1/1 [==============================] - 0s 29ms/step\n",
            "1/1 [==============================] - 0s 30ms/step\n",
            "arter stranger\t\n"
          ]
        }
      ]
    },
    {
      "cell_type": "code",
      "source": [
        "generate_names('po')"
      ],
      "metadata": {
        "colab": {
          "base_uri": "https://localhost:8080/"
        },
        "id": "q3zk-uidUWJn",
        "outputId": "6fbdd665-4216-488a-9946-55a2febf5a88"
      },
      "execution_count": 29,
      "outputs": [
        {
          "output_type": "stream",
          "name": "stdout",
          "text": [
            "1/1 [==============================] - 0s 18ms/step\n",
            "1/1 [==============================] - 0s 19ms/step\n",
            "1/1 [==============================] - 0s 18ms/step\n",
            "1/1 [==============================] - 0s 19ms/step\n",
            "1/1 [==============================] - 0s 20ms/step\n",
            "1/1 [==============================] - 0s 20ms/step\n",
            "1/1 [==============================] - 0s 19ms/step\n",
            "1/1 [==============================] - 0s 26ms/step\n",
            "1/1 [==============================] - 0s 18ms/step\n",
            "1/1 [==============================] - 0s 19ms/step\n",
            "1/1 [==============================] - 0s 19ms/step\n",
            "poldie shera\t\n"
          ]
        }
      ]
    },
    {
      "cell_type": "code",
      "source": [
        "generate_names('f')"
      ],
      "metadata": {
        "colab": {
          "base_uri": "https://localhost:8080/"
        },
        "id": "_GLleBh3UWMo",
        "outputId": "95cdb8d5-b1ff-4b01-d15b-5d0c56ef2dec"
      },
      "execution_count": 30,
      "outputs": [
        {
          "output_type": "stream",
          "name": "stdout",
          "text": [
            "1/1 [==============================] - 0s 20ms/step\n",
            "1/1 [==============================] - 0s 20ms/step\n",
            "1/1 [==============================] - 0s 22ms/step\n",
            "1/1 [==============================] - 0s 20ms/step\n",
            "1/1 [==============================] - 0s 18ms/step\n",
            "flash\t\n"
          ]
        }
      ]
    },
    {
      "cell_type": "code",
      "source": [],
      "metadata": {
        "id": "b8Oid1W6UWPV"
      },
      "execution_count": null,
      "outputs": []
    },
    {
      "cell_type": "code",
      "source": [],
      "metadata": {
        "id": "r_9uVXytUWSo"
      },
      "execution_count": null,
      "outputs": []
    },
    {
      "cell_type": "code",
      "source": [],
      "metadata": {
        "id": "yV6ZZZQaUWVb"
      },
      "execution_count": null,
      "outputs": []
    }
  ]
}